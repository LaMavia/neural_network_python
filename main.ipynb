{
 "cells": [
  {
   "cell_type": "code",
   "execution_count": 130,
   "metadata": {},
   "outputs": [],
   "source": [
    "import numpy as np\n",
    "import pprint\n",
    "import math\n",
    "\n",
    "pp = pprint.PrettyPrinter(indent=2)"
   ]
  },
  {
   "cell_type": "code",
   "execution_count": 172,
   "metadata": {},
   "outputs": [],
   "source": [
    "class Layer:\n",
    "    def __init__(self, n_in, n_neurons):\n",
    "        self.weights = np.random.rand(n_in, n_neurons)\n",
    "        self.biases = np.random.rand(n_neurons, 1)\n",
    "        self.total_weight = 1\n",
    "        \n",
    "    def activate(self, in_matrix):\n",
    "        def sigmoid(x):\n",
    "            return 1/(1 + np.power(math.e, -x))\n",
    "        \n",
    "        def apply_sigmoid(matrix):\n",
    "            for x in range(len(matrix)):\n",
    "                for y in range(len(matrix[x])):\n",
    "                    matrix[x,y] = sigmoid(matrix[x,y])\n",
    "            return matrix\n",
    "        \n",
    "        dot_prod = np.dot(in_matrix, self.weights)\n",
    "        dot_prod.shape = self.biases.shape\n",
    "        \n",
    "        summed_matrix = np.add(dot_prod, self.biases)\n",
    "        \n",
    "        # Update self.total_weight, which is used in the Network.backpropagation\n",
    "        self.total_weight = np.sum(self.weights)\n",
    "        return apply_sigmoid(summed_matrix)\n",
    "    \n",
    "    def backpropagation(self, output, correct_output, learning_rate):\n",
    "        \n",
    "    "
   ]
  },
  {
   "cell_type": "code",
   "execution_count": 188,
   "metadata": {},
   "outputs": [],
   "source": [
    "class Network:\n",
    "    def __init__(self, schema):\n",
    "        _l = []\n",
    "        for i in range(1, len(schema)):\n",
    "            layer_size = schema[i]\n",
    "            prev_layer_size = schema[i - 1]\n",
    "            _l.append(Layer(prev_layer_size, layer_size))\n",
    "        self.layers = np.array(_l)\n",
    "    \n",
    "    def feed_forward(self, in_matrix):\n",
    "        next_input = self.layers[0].activate(in_matrix)\n",
    "        \n",
    "        for i in range(1, len(self.layers)):\n",
    "            next_input = self.layers[i].activate(np.transpose(next_input))\n",
    "        \n",
    "        return next_input\n",
    "        \n",
    "    def backpropagation(self, output, correct_output, learning_rate):\n",
    "        last_error = self.layers[len(self.layers) - 1].backpropagation()\n",
    "        for i in range(len(self.layers) - 2, 0, -1):\n",
    "            print(self.layers[i])"
   ]
  },
  {
   "cell_type": "code",
   "execution_count": 189,
   "metadata": {},
   "outputs": [
    {
     "name": "stdout",
     "output_type": "stream",
     "text": [
      "<__main__.Layer object at 0x0000024B99567F28>\n",
      "<__main__.Layer object at 0x0000024B99567EB8>\n"
     ]
    }
   ],
   "source": [
    "n = Network([15, 10, 5, 2])\n",
    "n.feed_forward(np.random.rand(1,15))\n",
    "n.backpropagation(np.random.rand(2, 1), np.random.rand(2,1), 2)"
   ]
  },
  {
   "cell_type": "code",
   "execution_count": null,
   "metadata": {},
   "outputs": [],
   "source": []
  }
 ],
 "metadata": {
  "kernelspec": {
   "display_name": "Python 3",
   "language": "python",
   "name": "python3"
  },
  "language_info": {
   "codemirror_mode": {
    "name": "ipython",
    "version": 3
   },
   "file_extension": ".py",
   "mimetype": "text/x-python",
   "name": "python",
   "nbconvert_exporter": "python",
   "pygments_lexer": "ipython3",
   "version": "3.7.3"
  }
 },
 "nbformat": 4,
 "nbformat_minor": 2
}
